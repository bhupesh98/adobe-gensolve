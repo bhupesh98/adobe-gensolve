{
  "cells": [
    {
      "cell_type": "markdown",
      "source": [
        "# Abobe GenSolve Hackathon\n",
        "## Problem Statement\n",
        "Our mission is to identify, regularize, and beautify curves in 2D Euclidean\n",
        "space. We’ll start by focusing on closed curves and progressively work with more complex shapes. This project will also cover symmetry and curve completion techniques.\n"
      ],
      "metadata": {
        "id": "scxXEN70tm8D"
      }
    },
    {
      "cell_type": "code",
      "source": [
        "# Import necessary libraries\n",
        "%pip install pandas\n",
        "%pip install numpy\n",
        "%pip install matplotlib\n",
        "%pip install pillow\n",
        "%pip install opencv-python\n",
        "%pip install cairosvg\n",
        "%pip install svgwrite\n",
        "%pip install scipy"
      ],
      "metadata": {
        "colab": {
          "base_uri": "https://localhost:8080/"
        },
        "id": "loIpMtPftjyf",
        "outputId": "f2e2e0b4-01e2-475c-ac2e-7c3c818b86a9"
      },
      "execution_count": 2,
      "outputs": [
        {
          "output_type": "stream",
          "name": "stdout",
          "text": [
            "Requirement already satisfied: pandas in /usr/local/lib/python3.10/dist-packages (2.1.4)\n",
            "Requirement already satisfied: numpy<2,>=1.22.4 in /usr/local/lib/python3.10/dist-packages (from pandas) (1.26.4)\n",
            "Requirement already satisfied: python-dateutil>=2.8.2 in /usr/local/lib/python3.10/dist-packages (from pandas) (2.8.2)\n",
            "Requirement already satisfied: pytz>=2020.1 in /usr/local/lib/python3.10/dist-packages (from pandas) (2024.1)\n",
            "Requirement already satisfied: tzdata>=2022.1 in /usr/local/lib/python3.10/dist-packages (from pandas) (2024.1)\n",
            "Requirement already satisfied: six>=1.5 in /usr/local/lib/python3.10/dist-packages (from python-dateutil>=2.8.2->pandas) (1.16.0)\n",
            "Requirement already satisfied: numpy in /usr/local/lib/python3.10/dist-packages (1.26.4)\n",
            "Requirement already satisfied: matplotlib in /usr/local/lib/python3.10/dist-packages (3.7.1)\n",
            "Requirement already satisfied: contourpy>=1.0.1 in /usr/local/lib/python3.10/dist-packages (from matplotlib) (1.2.1)\n",
            "Requirement already satisfied: cycler>=0.10 in /usr/local/lib/python3.10/dist-packages (from matplotlib) (0.12.1)\n",
            "Requirement already satisfied: fonttools>=4.22.0 in /usr/local/lib/python3.10/dist-packages (from matplotlib) (4.53.1)\n",
            "Requirement already satisfied: kiwisolver>=1.0.1 in /usr/local/lib/python3.10/dist-packages (from matplotlib) (1.4.5)\n",
            "Requirement already satisfied: numpy>=1.20 in /usr/local/lib/python3.10/dist-packages (from matplotlib) (1.26.4)\n",
            "Requirement already satisfied: packaging>=20.0 in /usr/local/lib/python3.10/dist-packages (from matplotlib) (24.1)\n",
            "Requirement already satisfied: pillow>=6.2.0 in /usr/local/lib/python3.10/dist-packages (from matplotlib) (9.4.0)\n",
            "Requirement already satisfied: pyparsing>=2.3.1 in /usr/local/lib/python3.10/dist-packages (from matplotlib) (3.1.2)\n",
            "Requirement already satisfied: python-dateutil>=2.7 in /usr/local/lib/python3.10/dist-packages (from matplotlib) (2.8.2)\n",
            "Requirement already satisfied: six>=1.5 in /usr/local/lib/python3.10/dist-packages (from python-dateutil>=2.7->matplotlib) (1.16.0)\n",
            "Requirement already satisfied: pillow in /usr/local/lib/python3.10/dist-packages (9.4.0)\n",
            "Requirement already satisfied: opencv-python in /usr/local/lib/python3.10/dist-packages (4.10.0.84)\n",
            "Requirement already satisfied: numpy>=1.21.2 in /usr/local/lib/python3.10/dist-packages (from opencv-python) (1.26.4)\n",
            "Collecting cairosvg\n",
            "  Downloading CairoSVG-2.7.1-py3-none-any.whl.metadata (2.7 kB)\n",
            "Collecting cairocffi (from cairosvg)\n",
            "  Downloading cairocffi-1.7.1-py3-none-any.whl.metadata (3.3 kB)\n",
            "Collecting cssselect2 (from cairosvg)\n",
            "  Downloading cssselect2-0.7.0-py3-none-any.whl.metadata (2.9 kB)\n",
            "Requirement already satisfied: defusedxml in /usr/local/lib/python3.10/dist-packages (from cairosvg) (0.7.1)\n",
            "Requirement already satisfied: pillow in /usr/local/lib/python3.10/dist-packages (from cairosvg) (9.4.0)\n",
            "Requirement already satisfied: tinycss2 in /usr/local/lib/python3.10/dist-packages (from cairosvg) (1.3.0)\n",
            "Requirement already satisfied: cffi>=1.1.0 in /usr/local/lib/python3.10/dist-packages (from cairocffi->cairosvg) (1.17.0)\n",
            "Requirement already satisfied: webencodings in /usr/local/lib/python3.10/dist-packages (from cssselect2->cairosvg) (0.5.1)\n",
            "Requirement already satisfied: pycparser in /usr/local/lib/python3.10/dist-packages (from cffi>=1.1.0->cairocffi->cairosvg) (2.22)\n",
            "Downloading CairoSVG-2.7.1-py3-none-any.whl (43 kB)\n",
            "\u001b[2K   \u001b[90m━━━━━━━━━━━━━━━━━━━━━━━━━━━━━━━━━━━━━━━━\u001b[0m \u001b[32m43.2/43.2 kB\u001b[0m \u001b[31m1.6 MB/s\u001b[0m eta \u001b[36m0:00:00\u001b[0m\n",
            "\u001b[?25hDownloading cairocffi-1.7.1-py3-none-any.whl (75 kB)\n",
            "\u001b[2K   \u001b[90m━━━━━━━━━━━━━━━━━━━━━━━━━━━━━━━━━━━━━━━━\u001b[0m \u001b[32m75.6/75.6 kB\u001b[0m \u001b[31m2.2 MB/s\u001b[0m eta \u001b[36m0:00:00\u001b[0m\n",
            "\u001b[?25hDownloading cssselect2-0.7.0-py3-none-any.whl (15 kB)\n",
            "Installing collected packages: cssselect2, cairocffi, cairosvg\n",
            "Successfully installed cairocffi-1.7.1 cairosvg-2.7.1 cssselect2-0.7.0\n",
            "Collecting svgwrite\n",
            "  Downloading svgwrite-1.4.3-py3-none-any.whl.metadata (8.8 kB)\n",
            "Downloading svgwrite-1.4.3-py3-none-any.whl (67 kB)\n",
            "\u001b[2K   \u001b[90m━━━━━━━━━━━━━━━━━━━━━━━━━━━━━━━━━━━━━━━━\u001b[0m \u001b[32m67.1/67.1 kB\u001b[0m \u001b[31m2.1 MB/s\u001b[0m eta \u001b[36m0:00:00\u001b[0m\n",
            "\u001b[?25hInstalling collected packages: svgwrite\n",
            "Successfully installed svgwrite-1.4.3\n",
            "Requirement already satisfied: scipy in /usr/local/lib/python3.10/dist-packages (1.13.1)\n",
            "Requirement already satisfied: numpy<2.3,>=1.22.4 in /usr/local/lib/python3.10/dist-packages (from scipy) (1.26.4)\n"
          ]
        }
      ]
    },
    {
      "cell_type": "markdown",
      "metadata": {
        "id": "JF6emKIGtAYc"
      },
      "source": [
        "# Libraries Used\n",
        "- **OpenCV**: OpenCV is a library of programming functions mainly aimed at real-time computer vision.\n",
        "- **Numpy**: NumPy is a library for the Python programming language, adding support for large, multi-dimensional arrays and matrices, along with a large collection of high-level mathematical functions to operate on these arrays.\n",
        "- **Matplotlib**: Matplotlib is a plotting library for the Python programming language and its numerical mathematics extension NumPy.\n",
        "- **Scipy**: SciPy is a free and open-source Python library used for scientific and technical computing. SciPy contains modules for optimization, linear algebra, integration, interpolation, special functions, FFT, signal and image processing, ODE solvers and other tasks common in science and engineering.\n",
        "- **PIL** (pillow): The Python Imaging Library (PIL) adds image processing capabilities to your Python interpreter. This library supports many file formats, and provides powerful image processing and graphics capabilities.\n",
        "- **Pandas**: Pandas is a fast, powerful, flexible and easy to use open source data analysis and data manipulation library built on top of the Python programming language.\n",
        "- **cv2**: OpenCV-Python is a library of Python bindings designed to solve computer vision problems.\n",
        "- **cairosvg**: CairoSVG is a SVG converter based on Cairo. It can export SVG files to PDF, PostScript and PNG files.\n",
        "- **svgwrite**: svgwrite is a Python module that creates SVG drawings."
      ]
    },
    {
      "cell_type": "code",
      "source": [
        "# Import required libraries\n",
        "import numpy as np\n",
        "import pandas as pd\n",
        "import cv2\n",
        "from scipy.interpolate import UnivariateSpline, interp1d\n",
        "import matplotlib.pyplot as plt\n",
        "import svgwrite\n",
        "import zipfile\n",
        "import cairosvg"
      ],
      "metadata": {
        "id": "EHPbhmVutyeA"
      },
      "execution_count": 3,
      "outputs": []
    },
    {
      "cell_type": "code",
      "source": [
        "# Unzip the dataset\n",
        "with zipfile.ZipFile(\"problems.zip\",\"r\") as zip_ref:\n",
        "    zip_ref.extractall() # problems folder will be created\n",
        "\n",
        "!mkdir solutions"
      ],
      "metadata": {
        "colab": {
          "base_uri": "https://localhost:8080/"
        },
        "id": "1LmvpUjPt3m0",
        "outputId": "f9b85cd8-2a4a-416e-b8cb-2ed71b90bbeb"
      },
      "execution_count": 5,
      "outputs": [
        {
          "output_type": "stream",
          "name": "stdout",
          "text": [
            "mkdir: cannot create directory ‘solutions’: File exists\n"
          ]
        }
      ]
    },
    {
      "cell_type": "code",
      "source": [
        "# Utility functions\n",
        "\n",
        "def read_csv(csv_path):\n",
        "    \"\"\"\n",
        "    CSV Data Loading and Processing\n",
        "    \"\"\"\n",
        "    np_path_XYs = np.genfromtxt(csv_path ,delimiter = ',')\n",
        "    path_XYs = []\n",
        "    for i in np.unique(np_path_XYs [: , 0]):\n",
        "        npXYs = np_path_XYs[np_path_XYs[: , 0] == i ][: , 1:]\n",
        "        XYs = []\n",
        "        for j in np.unique(npXYs[: , 0]):\n",
        "            XY = npXYs[npXYs[: , 0] == j ][: , 1:]\n",
        "            XYs.append(XY)\n",
        "        path_XYs.append(XYs)\n",
        "    return path_XYs\n",
        "\n",
        "def plot(paths_XYs):\n",
        "    \"\"\"Plotting the Curves\"\"\"\n",
        "    fig , ax = plt.subplots(tight_layout = True ,figsize =(8 , 8))\n",
        "    for i , XYs in enumerate(paths_XYs):\n",
        "        # c = colours [ i % len( colours )]\n",
        "        for XY in XYs:\n",
        "            ax.plot(XY[: , 0] ,XY[: , 1] ,linewidth =2)\n",
        "    ax.set_aspect(\"equal\")\n",
        "    plt.show()"
      ],
      "metadata": {
        "id": "jiJJIzdSucnf"
      },
      "execution_count": 6,
      "outputs": []
    },
    {
      "cell_type": "markdown",
      "source": [
        "### Converting Polylines to SVG\n",
        "The `polylines2svg` function takes the path data and converts it into an SVG file, which is later converted to a PNG file using `cairosvg`."
      ],
      "metadata": {
        "id": "cqvOa6NtufSV"
      }
    },
    {
      "cell_type": "code",
      "source": [
        "def polylines2svg(paths_XYs, svg_path):\n",
        "    \"\"\"Converting Polylines to SVG\"\"\"\n",
        "    W, H = 0, 0\n",
        "    for path_XYs in paths_XYs:\n",
        "        for XY in path_XYs:\n",
        "            W, H = max(W, np.max(XY[:, 0])), max(H, np.max(XY[:, 1]))\n",
        "    padding = 0.1\n",
        "    W, H = int(W + padding * W), int(H + padding * H)\n",
        "\n",
        "    dwg = svgwrite.Drawing(svg_path, profile=\"tiny\", shape_rendering=\"crispEdges\")\n",
        "    group = dwg.g()\n",
        "    colors = [\"red\", \"blue\", \"green\", \"yellow\", \"purple\", \"orange\", \"cyan\", \"magenta\"]\n",
        "\n",
        "    for i, path in enumerate(paths_XYs):\n",
        "        path_data = []\n",
        "        for XY in path:\n",
        "            path_data.append(\"M {} {}\".format(XY[0, 0], XY[0, 1]))\n",
        "            for j in range(1, len(XY)):\n",
        "                path_data.append(\"L {} {}\".format(XY[j, 0], XY[j, 1]))\n",
        "            if not np.allclose(XY[0], XY[-1]):\n",
        "                path_data.append(\"Z\")\n",
        "        c = colors[i % len(colors)]\n",
        "        group.add(dwg.path(d=\" \".join(path_data), fill=c, stroke=\"none\", stroke_width=2))\n",
        "\n",
        "    dwg.add(group)\n",
        "    dwg.save()\n",
        "\n",
        "    png_path = svg_path.replace('.svg', '.png')\n",
        "    fact = 1\n",
        "    if min(H, W) != 0:\n",
        "        fact = max(1, 1024 // min(H, W))"
      ],
      "metadata": {
        "id": "7OTBmEcEue_f"
      },
      "execution_count": 7,
      "outputs": []
    },
    {
      "cell_type": "markdown",
      "source": [
        "### Data Smoothing and Interpolation\n",
        "Here, we define functions to smooth and interpolate the points using `UnivariateSpline` and `interp1d`."
      ],
      "metadata": {
        "id": "IoGD4EZ8ukej"
      }
    },
    {
      "cell_type": "code",
      "source": [
        "def smooth_points(x, y, s=0):\n",
        "    \"\"\"Smoothing function\"\"\"\n",
        "    spline_x = UnivariateSpline(range(len(x)), x, s=s)\n",
        "    spline_y = UnivariateSpline(range(len(y)), y, s=s)\n",
        "    return spline_x(range(len(x))), spline_y(range(len(y)))\n",
        "\n",
        "def interpolate_points(x, y, num_points):\n",
        "    \"\"\"Interpolation function\"\"\"\n",
        "    t = np.linspace(0, 1, len(x))\n",
        "    f_x = interp1d(t, x, kind=\"linear\")\n",
        "    f_y = interp1d(t, y, kind=\"linear\")\n",
        "    t_new = np.linspace(0, 1, num_points)\n",
        "    return f_x(t_new), f_y(t_new)"
      ],
      "metadata": {
        "id": "nCEz8F2_uml9"
      },
      "execution_count": 8,
      "outputs": []
    },
    {
      "cell_type": "markdown",
      "source": [
        "### Converting Points to an Image\n",
        "The points_to_image function converts the smoothed and interpolated points into a binary image."
      ],
      "metadata": {
        "id": "IxzLhb37u3w8"
      }
    },
    {
      "cell_type": "code",
      "source": [
        "def points_to_image(points, width=1000, height=1000):\n",
        "    \"\"\"Converting points to image\"\"\"\n",
        "    img = np.zeros((height, width), dtype=np.uint8)\n",
        "    for x, y in points:\n",
        "        if 0 <= int(y) < height and 0 <= int(x) < width:\n",
        "            img[int(y), int(x)] = 255\n",
        "    return img\n"
      ],
      "metadata": {
        "id": "QCdY8gKyu-Xg"
      },
      "execution_count": 9,
      "outputs": []
    },
    {
      "cell_type": "markdown",
      "source": [
        "## Overview of Canny Edge Detection\n",
        "\n",
        "The Canny edge detection algorithm, developed by John F. Canny in 1986, is one of the most commonly used techniques for detecting edges in images. It identifies points where the intensity of brightness changes sharply, indicating the presence of an edge or contour.\n",
        "\n",
        "## Steps in Canny Edge Detection\n",
        "\n",
        "1. **Noise Reduction:**  The first step involves removing noise from the image using a Gaussian filter. This helps prevent false edges caused by noise.\n",
        "\n",
        "2. **Gradient Calculation:** The algorithm calculates the gradient intensity and direction for each pixel using methods like the Sobel operator. This step highlights regions with high spatial derivatives, which typically correspond to edges.\n",
        "\n",
        "3. **Non-Maximum Suppression:** This step refines the edges by keeping only the local maxima of the gradient magnitude. It removes pixels that are not part of the most significant edges.\n",
        "\n",
        "4. **Double Thresholding:** Two thresholds (high and low) are applied to filter edges. Pixels with gradient values above the high threshold are considered strong edges, while those between the two thresholds are weak edges. Pixels below the low threshold are discarded.\n",
        "\n",
        "5. **Edge Tracking by Hysteresis:** The final step connects weak edges to strong edges. Weak edges connected to strong edges are retained, ensuring continuous and meaningful contours.\n",
        "\n",
        "## Application in Contour Detection\n",
        "\n",
        "Canny edge detection is highly effective for contour detection, which involves outlining the boundaries of objects in an image. Accurate edge detection enables object recognition, image segmentation, and shape analysis.\n",
        "\n",
        "## Advantages of Canny Contours\n",
        "\n",
        "- **Precision:** Detects true edges while minimizing false positives.\n",
        "- **Noise Robustness:** The initial noise reduction helps reduce the impact of noise on edge detection.\n",
        "- **Edge Connectivity:** Hysteresis ensures that edges form continuous contours, important for clear boundary definitions.\n"
      ],
      "metadata": {
        "id": "T2iZJLNOJltf"
      }
    },
    {
      "cell_type": "markdown",
      "source": [
        "### Shape Detection\n",
        "This section involves detecting shapes in the generated binary image using contours and Hough Line Transform.\n",
        "\n",
        "Here’s the explanation in markdown format:\n",
        "\n",
        "---\n",
        "\n",
        "### **`detect_shapes(img)` Function Explanation**\n",
        "\n",
        "The `detect_shapes(img)` function uses two key techniques to detect and classify shapes in an image: **Contours** and the **Hough Line Transform**.\n",
        "\n",
        "#### **Contours:**\n",
        "- **Contour Detection**: Contours are curves that join continuous points along a boundary with the same intensity. The function uses the `cv2.findContours()` method to detect these contours, identifying the edges of shapes in the image.\n",
        "- **Contour Approximation**: Once contours are detected, they are approximated to simpler polygonal shapes using the `cv2.approxPolyDP()` method. This simplification helps in classifying the shapes by reducing the number of points in the contour.\n",
        "- **Shape Classification**: Based on the number of vertices in the approximated contour:\n",
        "  - **3 vertices**: Classified as a **Triangle**.\n",
        "  - **4 vertices**: Classified as a **Square** or **Rectangle** (depending on the aspect ratio).\n",
        "  - **More than 4 vertices**: Further analyzed for classification as a **Circle**, **Ellipse**, **Star**, or a general **Polygon**.\n",
        "\n",
        "#### **Hough Line Transform:**\n",
        "- **Line Detection**: The function applies the Probabilistic Hough Line Transform (`cv2.HoughLinesP()`) to detect straight lines in the image.\n",
        "- **How It Works**: This technique maps edge points into a parameter space where lines are represented as peaks. If a significant number of edge points align to form a line, that line is detected and recorded.\n",
        "- **Application**: Detected lines are added to the `shapes` list as a recognized shape type **\"Line\"**, along with the coordinates of the line’s endpoints.\n",
        "\n",
        "### **Summary**:\n",
        "- **Contours** are used to detect and classify more complex shapes (like polygons, circles, etc.), while the **Hough Line Transform** specifically detects straight lines. Both methods are crucial in identifying and differentiating between various geometric shapes within the image.\n",
        "\n",
        "---"
      ],
      "metadata": {
        "id": "ECX6DgytvBZA"
      }
    },
    {
      "cell_type": "code",
      "source": [
        "def detect_shapes(img):\n",
        "    \"\"\"Detecting shapes in an image\"\"\"\n",
        "    shapes = []\n",
        "    edges = cv2.Canny(img.copy(), 0, 50)\n",
        "    edges_line = cv2.GaussianBlur(edges.copy(), (15, 15), 0)\n",
        "\n",
        "    # Detect lines using Probabilistic Hough Line Transform\n",
        "    lines = cv2.HoughLinesP(edges_line, 1, np.pi / 2, threshold=200, minLineLength=0, maxLineGap=100)\n",
        "    if lines is not None:\n",
        "        for line in lines:\n",
        "            for x1, y1, x2, y2 in line:\n",
        "                shapes.append((\"Line\", np.array([[x1, y1], [x2, y2]])))\n",
        "\n",
        "    edges = img.copy()\n",
        "    # Find contours\n",
        "    contours, hierarchy = cv2.findContours(edges.copy(), cv2.RETR_EXTERNAL, cv2.CHAIN_APPROX_SIMPLE)\n",
        "    for contour in contours:\n",
        "        if cv2.contourArea(contour) < 500:  # Adjust the threshold as needed\n",
        "            continue\n",
        "\n",
        "        epsilon = 0.03 * cv2.arcLength(contour, True)\n",
        "        approx = cv2.approxPolyDP(contour, epsilon, True)\n",
        "\n",
        "        # If shape is a triangle\n",
        "        if len(approx) == 3:\n",
        "            shapes.append((\"Triangle\", approx))\n",
        "        elif len(approx) == 4:\n",
        "            (x, y, w, h) = cv2.boundingRect(approx)\n",
        "            aspect_ratio = w / float(h)\n",
        "            shape = \"Square\" if 0.85 <= aspect_ratio <= 1.15 else \"Rectangle\"\n",
        "            shapes.append((shape, approx))\n",
        "        elif len(approx) > 4:\n",
        "            area = cv2.contourArea(contour)\n",
        "            (x, y), radius = cv2.minEnclosingCircle(contour)\n",
        "            circularity = area / (np.pi * radius * radius)\n",
        "            if 0.75 <= circularity <= 1.25:\n",
        "                center = (int(x), int(y))\n",
        "                radius = int(radius)\n",
        "                shapes.append((\"Circle\", (center, radius)))\n",
        "            else:\n",
        "                shapes.append((\"Polygon\", approx))\n",
        "\n",
        "            if len(approx) >= 6:\n",
        "                ellipse = cv2.fitEllipse(contour)\n",
        "                center, axes, angle = ellipse\n",
        "                axes = (int(axes[0] / 2), int(axes[1] / 2))\n",
        "                ellipse_contour = cv2.ellipse2Poly(\n",
        "                    center=(int(center[0]), int(center[1])),\n",
        "                    axes=axes,\n",
        "                    angle=int(angle),\n",
        "                    arcStart=0,\n",
        "                    arcEnd=360,\n",
        "                    delta=2\n",
        "                )\n",
        "                ellipse_contour = np.array(ellipse_contour)\n",
        "                distance = cv2.pointPolygonTest(ellipse_contour, center, True)\n",
        "                if abs(distance) < 40:\n",
        "                    shapes.append((\"Ellipse\", ellipse_contour))\n",
        "            # If shape is star\n",
        "            if len(approx) >= 10:\n",
        "                shapes.append((\"Star\", approx))\n",
        "\n",
        "    # Select the shape with the highest probability\n",
        "    shape_priorities = {\n",
        "        \"Circle\": 1,\n",
        "        \"Square\": 2,\n",
        "        \"Rectangle\": 3,\n",
        "        \"Triangle\": 4,\n",
        "        \"Star\": 5,\n",
        "        \"Polygon\": 6,\n",
        "        \"Ellipse\": 7,\n",
        "        \"Line\": 8,\n",
        "    }\n",
        "\n",
        "    if shapes:\n",
        "        shapes = sorted(shapes, key=lambda s: shape_priorities.get(s[0], 9))\n",
        "        most_probable_shape = shapes[0]\n",
        "        return [most_probable_shape]\n",
        "\n",
        "    return shapes\n"
      ],
      "metadata": {
        "id": "99caXu5fvDdO"
      },
      "execution_count": 10,
      "outputs": []
    },
    {
      "cell_type": "markdown",
      "source": [
        "### Drawing Detected Shapes on an Image\n",
        "The draw_shapes function overlays the detected shapes onto the original image."
      ],
      "metadata": {
        "id": "yZsdbXWkvJ3n"
      }
    },
    {
      "cell_type": "code",
      "source": [
        "def draw_shapes(img, shapes, curve_points=None):\n",
        "    if len(img.shape) == 2:\n",
        "        img_color = cv2.cvtColor(img, cv2.COLOR_GRAY2BGR)\n",
        "    else:\n",
        "        img_color = img.copy()\n",
        "\n",
        "    blank_image = np.zeros_like(img_color)\n",
        "\n",
        "    if shapes:\n",
        "        for shape, contour in shapes:\n",
        "            color = (255, 255, 255)  # White\n",
        "\n",
        "            if shape == \"Circle\":\n",
        "                center, radius = contour\n",
        "                cv2.circle(blank_image, center, radius, color, 1)\n",
        "            else:\n",
        "                cv2.drawContours(blank_image, [contour], -1, color, 1)\n",
        "    else:\n",
        "        if curve_points is not None:\n",
        "            color = (255, 255, 255)  # White\n",
        "            cv2.polylines(blank_image, [curve_points], isClosed=False, color=color, thickness=1)\n",
        "\n",
        "    return blank_image\n"
      ],
      "metadata": {
        "id": "o5sS5xeKvMC-"
      },
      "execution_count": 11,
      "outputs": []
    },
    {
      "cell_type": "markdown",
      "source": [
        "### Combining All Images\n",
        "Finally, the combine_images function merges all processed images into a single large image."
      ],
      "metadata": {
        "id": "Q-nsEgTZvMtw"
      }
    },
    {
      "cell_type": "code",
      "source": [
        "def combine_images(images, positions, width=1000, height=1000):\n",
        "    combined_image = np.zeros((height, width, 3), dtype=np.uint8)\n",
        "    for img, (x, y) in zip(images, positions):\n",
        "        h, w = img.shape[:2]\n",
        "        x = max(0, min(x, width - w))\n",
        "        y = max(0, min(y, height - h))\n",
        "        mask = img != 0\n",
        "        combined_image[y : y + h, x : x + w][mask] = img[mask]\n",
        "    return combined_image"
      ],
      "metadata": {
        "id": "UH9e_Z4pvO4T"
      },
      "execution_count": 12,
      "outputs": []
    },
    {
      "cell_type": "markdown",
      "source": [
        "### Processing the Curves and Detecting Shapes\n",
        "This section processes each curve, detects shapes, and combines the results into a single image.\n",
        "\n",
        "> Final main Function execution"
      ],
      "metadata": {
        "id": "4hf2TlHsvSff"
      }
    },
    {
      "cell_type": "markdown",
      "source": [
        "## Works for both isolation and fragmentation images.\n",
        "Just enter the filename present in problems folder."
      ],
      "metadata": {
        "id": "RnNWcMJezNsO"
      }
    },
    {
      "cell_type": "code",
      "source": [
        "\n",
        "!mkdir temp"
      ],
      "metadata": {
        "colab": {
          "base_uri": "https://localhost:8080/"
        },
        "id": "dr-bux4TxwNe",
        "outputId": "71c0cabf-7242-424e-cce3-68f3a97057f4"
      },
      "execution_count": 15,
      "outputs": [
        {
          "output_type": "stream",
          "name": "stdout",
          "text": [
            "Enter filename along without svg extensionfrag1\n",
            "mkdir: cannot create directory ‘temp’: File exists\n"
          ]
        }
      ]
    },
    {
      "cell_type": "code",
      "execution_count": 20,
      "metadata": {
        "colab": {
          "base_uri": "https://localhost:8080/",
          "height": 1000
        },
        "id": "YyLD0AhNjhFJ",
        "outputId": "5abdb74a-dcbb-43ff-c563-987b1f352ca8"
      },
      "outputs": [
        {
          "name": "stdout",
          "output_type": "stream",
          "text": [
            "Enter filename along without svg extensionisolated\n"
          ]
        },
        {
          "output_type": "display_data",
          "data": {
            "text/plain": [
              "<Figure size 640x480 with 1 Axes>"
            ],
            "image/png": "[encoded data removed]"
          },
          "metadata": {}
        },
        {
          "output_type": "display_data",
          "data": {
            "text/plain": [
              "<Figure size 640x480 with 1 Axes>"
            ],
            "image/png": "[encoded data removed]"
          },
          "metadata": {}
        },
        {
          "output_type": "display_data",
          "data": {
            "text/plain": [
              "<Figure size 640x480 with 1 Axes>"
            ],
            "image/png": "[encoded data removed]"
          },
          "metadata": {}
        },
        {
          "output_type": "execute_result",
          "data": {
            "text/plain": [
              "True"
            ]
          },
          "metadata": {},
          "execution_count": 20
        }
      ],
      "source": [
        "# Process each curve\n",
        "filename = input(\"Enter filename along without svg extension\")\n",
        "processed_curves = []\n",
        "images = []\n",
        "positions = []\n",
        "\n",
        "# Load data into a DataFrame\n",
        "df = pd.read_csv(f\"problems/{filename}.csv\", header=None, names=[\"Curve\", \"Shape\", \"X\", \"Y\"])\n",
        "\n",
        "# Group by curve\n",
        "curves = df.groupby([\"Curve\", \"Shape\"])\n",
        "\n",
        "from cairosvg import svg2png\n",
        "svg2png(url=f\"problems/{filename}.svg\",write_to=f\"temp/{filename}.png\")\n",
        "\n",
        "\n",
        "for curve_id, group in curves:\n",
        "\n",
        "    x, y = group['X'].values, group['Y'].values\n",
        "    x_smooth, y_smooth = smooth_points(x, y, s=0)\n",
        "    x_interp, y_interp = interpolate_points(x_smooth, y_smooth, num_points=1000)\n",
        "\n",
        "\n",
        "    points = np.vstack((x_interp, y_interp)).T\n",
        "    positions.append(\n",
        "        (int(x.min()), int(y.min()))\n",
        "    )  # Store original positions for combining\n",
        "\n",
        "    img = points_to_image(points)\n",
        "    # cv2.imwrite(f\"without_shapes_detected_{curve_id}.png\", img)\n",
        "    shapes = detect_shapes(img)\n",
        "\n",
        "    ########################### Plotting ####################################\n",
        "    # Create a blank image with white background\n",
        "    img_array = np.ones((1000, 1000), dtype=np.uint8)\n",
        "\n",
        "    # Set the pixels corresponding to the coordinates to black\n",
        "    for xi, yi in zip(x, y):\n",
        "        if 0 <= int(yi) < 1000 and 0 <= int(xi) < 1000:\n",
        "            img_array[int(yi), int(xi)] = 255\n",
        "    # Plot the image\n",
        "    plt.imshow(img_array, cmap=\"gray\", origin=\"upper\")\n",
        "    plt.title(f\"Shape: {shapes[0][0]}\")\n",
        "    plt.show()\n",
        "\n",
        "    ######################################################################\n",
        "\n",
        "    # If no shapes are detected, use the original curve points\n",
        "    img_with_shapes = draw_shapes(img, shapes, curve_points=np.int32(points))\n",
        "    images.append(img_with_shapes)\n",
        "\n",
        "# Combine all images into one large image\n",
        "combined_image = combine_images(images, positions, width=1000, height=1000)\n",
        "cv2.imwrite(f\"solutions/{filename}_sol.png\", combined_image)"
      ]
    },
    {
      "cell_type": "markdown",
      "source": [
        "## Task: Exploring Symmetry in Curves\n",
        "\n",
        "The paper [`Detecting Symmetry and Symmetric Constellations of Features`](https://www.cse.psu.edu/~yul11/CourseFall2006_files/loy_eccv2006.pdf) by Loy and Eklundh discusses an advanced method for detecting symmetry in images by analyzing feature points and grouping them based on underlying symmetries. This code relates to this concept by detecting shapes in an image, calculating their centroids, and then drawing symmetry lines around these centroids. While the paper focuses on detecting symmetry across various orientations and scales using a feature-based approach, this code implements a simpler method by using contour moments to identify and visualize symmetry within detected shapes. Both approaches aim to identify and represent symmetry, although the paper's method is more sophisticated and can handle complex backgrounds and multiple symmetries in a single image.\n"
      ],
      "metadata": {
        "id": "gloHZPzt6tkd"
      }
    },
    {
      "cell_type": "markdown",
      "source": [
        "### Correct Symmetry lines\n",
        "Helper funtion for drawing correct symmetry lines\n",
        "- **Function Purpose:** Draws 4 symmetry lines for circles and 6 for squares and stars based on the shape's centroid and circularity.\n",
        "- **Circularity Calculation:** Differentiates between shapes (circle or square/star) to determine the number of symmetry lines."
      ],
      "metadata": {
        "id": "Tf4s-x6P7yWI"
      }
    },
    {
      "cell_type": "code",
      "source": [
        "def draw_symmetry_lines(image, contour,lines_count = 2):\n",
        "    \"\"\"Draw 4 symmetry lines for circles and 6 for squares and stars.\"\"\"\n",
        "    M = cv2.moments(contour)\n",
        "    if M['m00'] != 0:\n",
        "        # Calculate centroid of the contour\n",
        "        cx = int(M['m10'] / M['m00'])\n",
        "        cy = int(M['m01'] / M['m00'])\n",
        "\n",
        "        # Determine shape based on circularity\n",
        "        perimeter = cv2.arcLength(contour, True)\n",
        "        area = cv2.contourArea(contour)\n",
        "        circularity = 4 * np.pi * area / (perimeter ** 2)\n",
        "\n",
        "        if 0.8 < circularity <= 1.2:\n",
        "            # Circle: Draw 4 lines\n",
        "            num_lines = 4\n",
        "        else:\n",
        "            # Squares and Stars: Draw 6 lines\n",
        "            num_lines = 6\n",
        "\n",
        "        # Draw symmetry lines\n",
        "        for i in range(num_lines):\n",
        "            theta = i * 2 * np.pi / num_lines  # Evenly space the lines\n",
        "            length = 75  # Adjust length of the lines\n",
        "            x_end = int(cx + length * np.cos(theta))\n",
        "            y_end = int(cy + length * np.sin(theta))\n",
        "            x_start = int(cx - length * np.cos(theta))\n",
        "            y_start = int(cy - length * np.sin(theta))\n",
        "            cv2.line(image, (x_start, y_start), (x_end, y_end), (255, 0, 0), 2)"
      ],
      "metadata": {
        "id": "ZW9tWAC06ykR"
      },
      "execution_count": 21,
      "outputs": []
    },
    {
      "cell_type": "markdown",
      "source": [
        "### Shape Dectector\n",
        "- **Function Purpose:** Detects shapes in an image and draws appropriate symmetry lines based on shape classification using the helper function."
      ],
      "metadata": {
        "id": "YNZMDLxX8N1b"
      }
    },
    {
      "cell_type": "code",
      "source": [
        "def detect_shapes_and_draw_correct_lines(image):\n",
        "    \"\"\"Detect shapes and draw corrected symmetry lines.\"\"\"\n",
        "    blurred = cv2.GaussianBlur(image, (5, 5), 0)\n",
        "    edges = cv2.Canny(blurred, 50, 150)\n",
        "    contours, _ = cv2.findContours(edges, cv2.RETR_EXTERNAL, cv2.CHAIN_APPROX_SIMPLE)\n",
        "\n",
        "    output = cv2.cvtColor(image, cv2.COLOR_GRAY2BGR)  # Convert to BGR for color drawing\n",
        "\n",
        "    for contour in contours:\n",
        "        # Draw the contour\n",
        "        cv2.drawContours(output, [contour], -1, (0, 255, 0), 2)\n",
        "\n",
        "        # Draw the correct symmetry lines\n",
        "        draw_symmetry_lines(output, contour)\n",
        "\n",
        "    return output\n"
      ],
      "metadata": {
        "id": "LRc8sbEP8OVs"
      },
      "execution_count": 22,
      "outputs": []
    },
    {
      "cell_type": "markdown",
      "source": [
        "Loads a grayscale image, detects shapes, and draws symmetry lines before displaying the result.\n",
        "\n",
        "### Instructions:\n",
        "Paste the svg/png file same as this folder and provide the filename with extension.\n"
      ],
      "metadata": {
        "id": "AyXPQvWX8nOt"
      }
    },
    {
      "cell_type": "code",
      "source": [
        "filename = input(\"Enter csv filename with extension\")\n",
        "# if filename ends with svg\n",
        "if filename.endswith(\".svg\"):\n",
        "    filename = filename.split(\".\")[0]\n",
        "    print(filename)\n",
        "    # convert svg to png\n",
        "    svg2png(url=f\"{filename}.svg\",write_to=f\"temp/{filename.split('/')[1]}.png\")\n",
        "    filename = f\"temp/{filename}.png\"\n",
        "elif not filename.endswith(\".png\"):\n",
        "    filename = f\"{filename}.png\"\n",
        "\n",
        "image = cv2.imread(filename, cv2.IMREAD_GRAYSCALE)\n",
        "\n",
        "corrected_image = detect_shapes_and_draw_correct_lines(image)\n",
        "plt.imshow(cv2.cvtColor(corrected_image, cv2.COLOR_BGR2RGB))\n",
        "plt.title('Corrected Shapes with Proper Symmetry')\n",
        "plt.axis('off')\n",
        "plt.show()"
      ],
      "metadata": {
        "colab": {
          "base_uri": "https://localhost:8080/",
          "height": 445
        },
        "id": "1tren5RQ8oZs",
        "outputId": "9b76bd36-4141-4e54-defd-04a085928e76"
      },
      "execution_count": 23,
      "outputs": [
        {
          "name": "stdout",
          "output_type": "stream",
          "text": [
            "Enter csv filename with extensionsolutions/isolated_sol\n"
          ]
        },
        {
          "output_type": "display_data",
          "data": {
            "text/plain": [
              "<Figure size 640x480 with 1 Axes>"
            ],
            "image/png": "[encoded data removed]"
          },
          "metadata": {}
        }
      ]
    },
    {
      "cell_type": "code",
      "source": [],
      "metadata": {
        "id": "oIFsKNuwPDjm"
      },
      "execution_count": null,
      "outputs": []
    }
  ],
  "metadata": {
    "colab": {
      "provenance": []
    },
    "kernelspec": {
      "display_name": "Python 3",
      "name": "python3"
    },
    "language_info": {
      "codemirror_mode": {
        "name": "ipython",
        "version": 3
      },
      "file_extension": ".py",
      "mimetype": "text/x-python",
      "name": "python",
      "nbconvert_exporter": "python",
      "pygments_lexer": "ipython3",
      "version": "3.11.9"
    }
  },
  "nbformat": 4,
  "nbformat_minor": 0
}